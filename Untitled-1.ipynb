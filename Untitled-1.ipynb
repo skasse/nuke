{
 "cells": [
  {
   "cell_type": "code",
   "execution_count": 1,
   "metadata": {},
   "outputs": [],
   "source": [
    "import json\n",
    "project_dir = \"G:/Shared drives/TriplegangersGroom_ext/Groom_INTERNAL/SimonYuen/maya/base_delta/images/dh_wind_2x0.2y1z__0.1s_0.1cs_0.5gs_0.1ss_13s_dh_wind_2x0.2y1z__0.1s_3.6cs_0.5gs_0.1ss_13s_dh_coil_1.0c3.6r_dh_exp_gScale_2.6/\"\n",
    "json_file = \"test.json\"\n",
    "metadata = {\n",
    "    \"rows\" : 5, \n",
    "    \"columns\" : 4, \n",
    "    \"width\" : 5000, \n",
    "    \"height\" : 5000, \n",
    "    \"project_dir\" : \"G:/Shared drives/TriplegangersGroom_ext/Groom_INTERNAL/SimonYuen/maya/base_delta/images/dh_wind_2x0.2y1z__0.1s_0.1cs_0.5gs_0.1ss_13s_dh_wind_2x0.2y1z__0.1s_3.6cs_0.5gs_0.1ss_13s_dh_coil_1.0c3.6r_dh_exp_gScale_2.6/\",\n",
    "    \"last_frame\" : 20, \n",
    "    \"date\" : \"10/7/2022\",\n",
    "}\n",
    "\n",
    "with open(project_dir+json_file,  \"w\") as outfile:\n",
    "    json.dump(metadata, outfile)"
   ]
  }
 ],
 "metadata": {
  "kernelspec": {
   "display_name": "Python 3.9.13 64-bit (microsoft store)",
   "language": "python",
   "name": "python3"
  },
  "language_info": {
   "codemirror_mode": {
    "name": "ipython",
    "version": 3
   },
   "file_extension": ".py",
   "mimetype": "text/x-python",
   "name": "python",
   "nbconvert_exporter": "python",
   "pygments_lexer": "ipython3",
   "version": "3.9.13"
  },
  "orig_nbformat": 4,
  "vscode": {
   "interpreter": {
    "hash": "5806630f2beb0724d9d4cdc68894c636bf136603f2798ac4d2652c15c74db36e"
   }
  }
 },
 "nbformat": 4,
 "nbformat_minor": 2
}
